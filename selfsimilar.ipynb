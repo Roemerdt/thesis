{
 "cells": [
  {
   "cell_type": "code",
   "execution_count": 9,
   "metadata": {},
   "outputs": [],
   "source": [
    "import numpy as np\n",
    "import cv2\n",
    "import os\n",
    "import pywt\n",
    "import pickle\n",
    "from skimage.metrics import structural_similarity as ssim"
   ]
  },
  {
   "cell_type": "code",
   "execution_count": 3,
   "metadata": {},
   "outputs": [],
   "source": [
    "def image_read(image):\n",
    "    return cv2.imread(image, cv2.IMREAD_COLOR)\n",
    "\n",
    "def wavelet_decomposition(image, wavelet='haar'):\n",
    "    # Determine the maximum level of decompositiom\n",
    "    max_level = pywt.dwt_max_level(min(image.shape), pywt.Wavelet(wavelet).dec_len)\n",
    "    coeffs = pywt.wavedec2(image, wavelet, level=max_level)\n",
    "    return coeffs\n",
    "\n",
    "def calculate_wavelet_scale_invariance_score(image, wavelet_type='haar'):\n",
    "    coeffs = wavelet_decomposition(image, wavelet_type)\n",
    "    # Analyze the coefficients at different scales\n",
    "    scores = [np.mean(np.abs(c)) for c in coeffs[1:]]  # Skipping the approximation coefficients\n",
    "    # Aggregating the scores\n",
    "    scale_invariance_score = np.mean(scores)\n",
    "    return scale_invariance_score"
   ]
  },
  {
   "cell_type": "code",
   "execution_count": 12,
   "metadata": {},
   "outputs": [],
   "source": [
    "def run_si(dataset, save_location):\n",
    "    # create folder for SI scores\n",
    "    dists_score_path = os.path.join(save_location, 'si_scores')\n",
    "    if not os.path.exists(dists_score_path):\n",
    "        os.makedirs(dists_score_path)\n",
    "\n",
    "    # get all exemplar category subfolders\n",
    "    dtd_subfolders = [f.path for f in os.scandir(dataset) if f.is_dir()]\n",
    "\n",
    "    # final SI scores\n",
    "    syn_scores = {}\n",
    "\n",
    "    # for every category\n",
    "    for texture_dir in dtd_subfolders:\n",
    "        \n",
    "        # get category title from path\n",
    "        name = os.path.basename(os.path.normpath(texture_dir))\n",
    "\n",
    "        # all images within a category\n",
    "        category_list = os.listdir(texture_dir)\n",
    "\n",
    "        for texture in category_list:\n",
    "            # retrieve actual image\n",
    "            full_path = f'{dataset}/{name}/{texture}'\n",
    "            # specific texture name\n",
    "            texture_name = os.path.splitext(texture)[0]\n",
    "            # load exemplar as tensor\n",
    "            image = image_read(full_path)\n",
    "\n",
    "            # Check if the image is loaded properly\n",
    "            if image is None:\n",
    "                scale_invariance = np.nan\n",
    "            else:\n",
    "                scale_invariance = calculate_wavelet_scale_invariance_score(image)\n",
    "\n",
    "            # save SI score\n",
    "            syn_scores[texture_name] = scale_invariance\n",
    "\n",
    "    # save score dicts as files\n",
    "    with open(os.path.join(dists_score_path, 'individual_scores'), 'wb') as f:\n",
    "        pickle.dump(syn_scores, f)"
   ]
  },
  {
   "cell_type": "code",
   "execution_count": null,
   "metadata": {},
   "outputs": [],
   "source": [
    "run_si('./dtd_small', './')"
   ]
  }
 ],
 "metadata": {
  "kernelspec": {
   "display_name": "base",
   "language": "python",
   "name": "python3"
  },
  "language_info": {
   "codemirror_mode": {
    "name": "ipython",
    "version": 3
   },
   "file_extension": ".py",
   "mimetype": "text/x-python",
   "name": "python",
   "nbconvert_exporter": "python",
   "pygments_lexer": "ipython3",
   "version": "3.10.9"
  }
 },
 "nbformat": 4,
 "nbformat_minor": 2
}
